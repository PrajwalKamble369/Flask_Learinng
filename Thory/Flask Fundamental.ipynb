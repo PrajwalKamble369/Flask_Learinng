{
 "cells": [
  {
   "cell_type": "markdown",
   "id": "c866c77d",
   "metadata": {},
   "source": [
    "## **Flask Fundamentals**"
   ]
  },
  {
   "cell_type": "markdown",
   "id": "0b305fca",
   "metadata": {},
   "source": [
    "**Roadmap**\n",
    "\n",
    "- **Install Flask**\n",
    "- **Create First App**\n",
    "- **Understanding HTTP Methods**\n",
    "- **Flask Core Objects**\n",
    "- **Build Login Systems**"
   ]
  },
  {
   "cell_type": "markdown",
   "id": "c6aab232",
   "metadata": {},
   "source": [
    "---------"
   ]
  },
  {
   "cell_type": "markdown",
   "id": "a2bbe8e9",
   "metadata": {},
   "source": [
    "| Get Method                         |          Post Method                      |\n",
    "|------------------------------------|-------------------------------------------|\n",
    "| To get data                        |    To send data                           |\n",
    "| Ask server to give you something   | You send information to server            |\n",
    "| Example: Page Visit of website     |  Example: Login to website                |"
   ]
  },
  {
   "cell_type": "markdown",
   "id": "b6095057",
   "metadata": {},
   "source": [
    "------"
   ]
  },
  {
   "cell_type": "markdown",
   "id": "fd5698d2",
   "metadata": {},
   "source": [
    "***Never send important data using get only use post***\n",
    "\n",
    "\n",
    "***Always define methods = [\"GET\", \"POST\"]***\n",
    "\n",
    "-------"
   ]
  }
 ],
 "metadata": {
  "language_info": {
   "name": "python"
  }
 },
 "nbformat": 4,
 "nbformat_minor": 5
}
