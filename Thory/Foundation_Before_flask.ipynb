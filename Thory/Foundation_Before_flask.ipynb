{
 "cells": [
  {
   "cell_type": "markdown",
   "id": "87220b4b",
   "metadata": {},
   "source": [
    "# **Foundations:**"
   ]
  },
  {
   "cell_type": "markdown",
   "id": "66e6b55f",
   "metadata": {},
   "source": [
    "Website :  It is collection of page we can visit them using browser.\n",
    "\n",
    "Web Application : It is website  but we can do extra thing on it like search, login, data save, files upload\n",
    "\n",
    "Serve : listen => give \n",
    "\n",
    "Backend : Behind the scene or like a brain\n",
    "\n",
    "Python Limitation : Dont know how to handle web pages and browser\n",
    "\n",
    "Framework : It is like toolbox\n",
    "\n",
    "Flask Benifits : It is beginner friendly and used data science \n",
    "\n",
    "HTTP & HTTPS : Imagine you are sending a letter to your friend through post office initially you will right a letter to your friend consider this as request then you will add address consider this as url when your friend recive this letter will give you an replay it is called as response.\n",
    "\n",
    "HTTP  : stands for \"Hyper Text Transfer Protocall \" This is used by broweser to communicate with server\n",
    "HTTPS : stand for \"Hyper Text Transfer Protocall Security\" This is used for security means sealed envelop\n",
    "\n",
    "\n",
    "Inside the request/ response cycel we have:\n",
    "    \n",
    "    URL \n",
    "      Method => GET POST etc\n",
    "    Status Code"
   ]
  },
  {
   "cell_type": "markdown",
   "id": "041d9648",
   "metadata": {},
   "source": [
    "restaurant : Website\n",
    "\n",
    "you : Browser\n",
    "\n",
    "restaurant address : url\n",
    "\n",
    "waiter : request\n",
    "\n",
    "kitchen : server\n",
    "\n",
    "coock : backend code\n",
    "\n",
    "meal : response\n",
    "\n",
    "bill : status code\n",
    "\n",
    "\n",
    "-----"
   ]
  },
  {
   "cell_type": "markdown",
   "id": "b954b37d",
   "metadata": {},
   "source": [
    "**Final Summary:**\n",
    "\n",
    "| Concept     | What it Means                                               |\n",
    "|-------------|-------------------------------------------------------------|\n",
    "| HTTP/HTTPS  | Rules for communication between browser and server          |\n",
    "| Request     | Your browser asking for something (a page, data)            |\n",
    "| Response    | The server's reply with what you asked                      |\n",
    "| Status Codes| A code that tells you if the request woked or failed        |\n",
    "| Browser     | The software you use to access website                      |\n",
    "| URL         | The address of webpage                                      |\n",
    "| Server      | The computer that stores and runs the website               |"
   ]
  },
  {
   "cell_type": "markdown",
   "id": "824b0049",
   "metadata": {},
   "source": [
    "---------\n",
    "\n",
    "**What Does Flask Do For You?**\n",
    "\n",
    "| What You Want To Do                  |   What Flask Gives You              |\n",
    "|--------------------------------------|-------------------------------------|\n",
    "| Show a page to users                 | @app.route() + return HTML          |\n",
    "| React to click or form submits       | Flask reads the input for you       |\n",
    "| Show data like name or products      | Flsks helps you to build pages using templets |\n",
    "| Handling logins, sessions            |    Flask helps you track users easily |\n",
    "| Connect to database                  | Flask works with tool to store data  |"
   ]
  },
  {
   "cell_type": "markdown",
   "id": "d10fbdb1",
   "metadata": {},
   "source": [
    "-----"
   ]
  },
  {
   "cell_type": "markdown",
   "id": "7d919c24",
   "metadata": {},
   "source": []
  }
 ],
 "metadata": {
  "language_info": {
   "name": "python"
  }
 },
 "nbformat": 4,
 "nbformat_minor": 5
}
