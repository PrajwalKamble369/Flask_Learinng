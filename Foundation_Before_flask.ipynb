{
 "cells": [
  {
   "cell_type": "markdown",
   "id": "66e6b55f",
   "metadata": {},
   "source": [
    "Website :  It is collection of page we can visit them using browser.\n",
    "\n",
    "Web Application : It is website  but we can do extra thing on it like search, login, data save, files upload\n",
    "\n",
    "Serve : listen => give \n",
    "\n",
    "Backend : Behind the scene or like a brain\n",
    "\n",
    "Python Limitation : Dont know how to handle web pages and browser\n",
    "\n",
    "Framework : It is like toolbox\n",
    "\n",
    "Flask Benifits : It is beginner friendly and used data science \n",
    "\n",
    "HTTP & HTTPS : Imagine you are sending a letter to your friend through post office initially you will right a letter to your friend consider this as request then you will add address consider this as url when your friend recive this letter will give you an replay it is called as response.\n",
    "\n",
    "HTTP  : stands for \"Hyper Text Transfer Protocall \" This is used by broweser to communicate with server\n",
    "HTTPS : stand for \"Hyper Text Transfer Protocall Security\" This is used for security means sealed envelop\n",
    "\n",
    "\n",
    "Inside the request/ response cycel we have:\n",
    "    \n",
    "    URL \n",
    "      Method => GET POST etc\n",
    "    Status Code"
   ]
  },
  {
   "cell_type": "markdown",
   "id": "041d9648",
   "metadata": {},
   "source": []
  }
 ],
 "metadata": {
  "language_info": {
   "name": "python"
  }
 },
 "nbformat": 4,
 "nbformat_minor": 5
}
